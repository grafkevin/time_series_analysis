{
 "cells": [
  {
   "cell_type": "markdown",
   "metadata": {},
   "source": [
    "##### Descriptive Time Series Analysis on Google Searches\n",
    "\n",
    "This notebook presents a group work part of my graduate course _Advanced Business Analytics_ from November 2017.\n",
    "\n",
    "# Introduction\n",
    "\n",
    "Time is an important factor to be considered e.g. when trying to forecast stock prices or the weather. A time series (TS) is an array of data points ordered by time. And the analysis of TS aims to detect structures and regularities in time series to exploit them for description or modelling. Characteristics of TS that need to be examined are: stationarity, seasonality and autocorrelation of the target variable. These terms will be explained along the notebook.\n",
    "\n",
    "In this work we used descriptive time series analysis to test spurious correlations between the examined search terms Kürbis (pumpkin) and Kostüm (costume). The search interest data for Germany was obtained from [Google Trends](https://trends.google.de/trends/explore?date=today5-y&geo=DE&q=kürbis,kostüm). Below is a plot of the search interest for both search terms in Germany. The search interest in Kürbis (in red) spikes every year in Oktober which is Halloween season. The same is true for Kostüm (in blue), however a greater interest can be found every February when the carnival season happens. \n",
    "\n",
    "<img src=\"joint_search_interest.png\" width=\"400\" />\n",
    "\n",
    "**Results**\n",
    "\n",
    "The search interest of pumpkin and costume are spuriously correlated. Taking into consideration both climatic circumstances (autumn in Germany is the harvest season of pumpkins) and regional holidays or traditions (in this case Halloween in October and carnival in February) sheds a different light on the data observation. In fact, Google searches for Kürbis may have rather been elevated by supermarkets offering reduced prices for pumpkins due to the harvest period. That is why a holistic view of influencing parameters and the viewing angle are crucial for reliable inferences of data."
   ]
  },
  {
   "cell_type": "markdown",
   "metadata": {
    "toc": true
   },
   "source": [
    "<h1>Table of Contents<span class=\"tocSkip\"></span></h1>\n",
    "<div class=\"toc\"><ul class=\"toc-item\"><li><span><a href=\"#Introduction\" data-toc-modified-id=\"Introduction-1\"><span class=\"toc-item-num\">1&nbsp;&nbsp;</span>Introduction</a></span></li><li><span><a href=\"#Reading-the-data\" data-toc-modified-id=\"Reading-the-data-2\"><span class=\"toc-item-num\">2&nbsp;&nbsp;</span>Reading the data</a></span></li><li><span><a href=\"#Separate-Analysis\" data-toc-modified-id=\"Separate-Analysis-3\"><span class=\"toc-item-num\">3&nbsp;&nbsp;</span>Separate Analysis</a></span><ul class=\"toc-item\"><li><span><a href=\"#Choice-of-Model:-Additive-or-Multiplicative?\" data-toc-modified-id=\"Choice-of-Model:-Additive-or-Multiplicative?-3.1\"><span class=\"toc-item-num\">3.1&nbsp;&nbsp;</span>Choice of Model: Additive or Multiplicative?</a></span></li><li><span><a href=\"#Decomposition\" data-toc-modified-id=\"Decomposition-3.2\"><span class=\"toc-item-num\">3.2&nbsp;&nbsp;</span>Decomposition</a></span></li></ul></li><li><span><a href=\"#Joint-Analysis\" data-toc-modified-id=\"Joint-Analysis-4\"><span class=\"toc-item-num\">4&nbsp;&nbsp;</span>Joint Analysis</a></span><ul class=\"toc-item\"><li><span><a href=\"#Cross-correlation-analysis-for-Kürbis\" data-toc-modified-id=\"Cross-correlation-analysis-for-Kürbis-4.1\"><span class=\"toc-item-num\">4.1&nbsp;&nbsp;</span>Cross-correlation analysis for Kürbis</a></span><ul class=\"toc-item\"><li><span><a href=\"#Check-for-stationarity\" data-toc-modified-id=\"Check-for-stationarity-4.1.1\"><span class=\"toc-item-num\">4.1.1&nbsp;&nbsp;</span>Check for stationarity</a></span></li><li><span><a href=\"#Differencing\" data-toc-modified-id=\"Differencing-4.1.2\"><span class=\"toc-item-num\">4.1.2&nbsp;&nbsp;</span>Differencing</a></span></li><li><span><a href=\"#Tests\" data-toc-modified-id=\"Tests-4.1.3\"><span class=\"toc-item-num\">4.1.3&nbsp;&nbsp;</span>Tests</a></span></li></ul></li><li><span><a href=\"#Cross-correlation-analysis-for-Kostüm\" data-toc-modified-id=\"Cross-correlation-analysis-for-Kostüm-4.2\"><span class=\"toc-item-num\">4.2&nbsp;&nbsp;</span>Cross-correlation analysis for Kostüm</a></span></li></ul></li><li><span><a href=\"#Results\" data-toc-modified-id=\"Results-5\"><span class=\"toc-item-num\">5&nbsp;&nbsp;</span>Results</a></span></li><li><span><a href=\"#Conclusion-&amp;-Managerial-Insights\" data-toc-modified-id=\"Conclusion-&amp;-Managerial-Insights-6\"><span class=\"toc-item-num\">6&nbsp;&nbsp;</span>Conclusion &amp; Managerial Insights</a></span></li></ul></div>"
   ]
  },
  {
   "cell_type": "markdown",
   "metadata": {},
   "source": [
    "# Reading the data\n",
    "Note, the data is normalised. "
   ]
  },
  {
   "cell_type": "code",
   "execution_count": 2,
   "metadata": {},
   "outputs": [
    {
     "name": "stderr",
     "output_type": "stream",
     "text": [
      "Warning message:\n",
      "\"package 'tseries' was built under R version 3.6.3\"\n",
      "Registered S3 method overwritten by 'quantmod':\n",
      "  method            from\n",
      "  as.zoo.data.frame zoo \n",
      "\n"
     ]
    },
    {
     "data": {
      "text/html": [
       "<table>\n",
       "<caption>A Time Series: 6 × 12</caption>\n",
       "<thead>\n",
       "\t<tr><th></th><th scope=col>Jan</th><th scope=col>Feb</th><th scope=col>Mar</th><th scope=col>Apr</th><th scope=col>May</th><th scope=col>Jun</th><th scope=col>Jul</th><th scope=col>Aug</th><th scope=col>Sep</th><th scope=col>Oct</th><th scope=col>Nov</th><th scope=col>Dec</th></tr>\n",
       "</thead>\n",
       "<tbody>\n",
       "\t<tr><th scope=row>2011</th><td>  3</td><td>  3</td><td>  2</td><td>  2</td><td>  2</td><td>  2</td><td>  3</td><td>  7</td><td> 20</td><td> 38</td><td> 12</td><td>  5</td></tr>\n",
       "\t<tr><th scope=row>2012</th><td>  3</td><td>  2</td><td>  2</td><td>  2</td><td>  2</td><td>  2</td><td>  3</td><td>  8</td><td> 28</td><td> 50</td><td> 16</td><td>  6</td></tr>\n",
       "\t<tr><th scope=row>2013</th><td>  4</td><td>  3</td><td>  3</td><td>  3</td><td>  2</td><td>  2</td><td>  3</td><td>  8</td><td> 28</td><td> 58</td><td> 19</td><td>  7</td></tr>\n",
       "\t<tr><th scope=row>2014</th><td>  5</td><td>  4</td><td>  4</td><td>  3</td><td>  3</td><td>  3</td><td>  4</td><td> 12</td><td> 36</td><td> 72</td><td> 23</td><td>  9</td></tr>\n",
       "\t<tr><th scope=row>2015</th><td>  7</td><td>  6</td><td>  4</td><td>  3</td><td>  3</td><td>  3</td><td>  4</td><td> 10</td><td> 40</td><td> 83</td><td> 25</td><td> 10</td></tr>\n",
       "\t<tr><th scope=row>2016</th><td>  8</td><td>  5</td><td>  4</td><td>  4</td><td>  4</td><td>  3</td><td>  4</td><td> 11</td><td> 37</td><td>100</td><td> 29</td><td> 11</td></tr>\n",
       "</tbody>\n",
       "</table>\n"
      ],
      "text/latex": [
       "A Time Series: 6 × 12\n",
       "\\begin{tabular}{r|llllllllllll}\n",
       "  & Jan & Feb & Mar & Apr & May & Jun & Jul & Aug & Sep & Oct & Nov & Dec\\\\\n",
       "\\hline\n",
       "\t2011 &   3 &   3 &   2 &   2 &   2 &   2 &   3 &   7 &  20 &  38 &  12 &   5\\\\\n",
       "\t2012 &   3 &   2 &   2 &   2 &   2 &   2 &   3 &   8 &  28 &  50 &  16 &   6\\\\\n",
       "\t2013 &   4 &   3 &   3 &   3 &   2 &   2 &   3 &   8 &  28 &  58 &  19 &   7\\\\\n",
       "\t2014 &   5 &   4 &   4 &   3 &   3 &   3 &   4 &  12 &  36 &  72 &  23 &   9\\\\\n",
       "\t2015 &   7 &   6 &   4 &   3 &   3 &   3 &   4 &  10 &  40 &  83 &  25 &  10\\\\\n",
       "\t2016 &   8 &   5 &   4 &   4 &   4 &   3 &   4 &  11 &  37 & 100 &  29 &  11\\\\\n",
       "\\end{tabular}\n"
      ],
      "text/markdown": [
       "\n",
       "A Time Series: 6 × 12\n",
       "\n",
       "| <!--/--> | Jan | Feb | Mar | Apr | May | Jun | Jul | Aug | Sep | Oct | Nov | Dec |\n",
       "|---|---|---|---|---|---|---|---|---|---|---|---|---|\n",
       "| 2011 |   3 |   3 |   2 |   2 |   2 |   2 |   3 |   7 |  20 |  38 |  12 |   5 |\n",
       "| 2012 |   3 |   2 |   2 |   2 |   2 |   2 |   3 |   8 |  28 |  50 |  16 |   6 |\n",
       "| 2013 |   4 |   3 |   3 |   3 |   2 |   2 |   3 |   8 |  28 |  58 |  19 |   7 |\n",
       "| 2014 |   5 |   4 |   4 |   3 |   3 |   3 |   4 |  12 |  36 |  72 |  23 |   9 |\n",
       "| 2015 |   7 |   6 |   4 |   3 |   3 |   3 |   4 |  10 |  40 |  83 |  25 |  10 |\n",
       "| 2016 |   8 |   5 |   4 |   4 |   4 |   3 |   4 |  11 |  37 | 100 |  29 |  11 |\n",
       "\n"
      ],
      "text/plain": [
       "     Jan Feb Mar Apr May Jun Jul Aug Sep Oct Nov Dec\n",
       "2011   3   3   2   2   2   2   3   7  20  38  12   5\n",
       "2012   3   2   2   2   2   2   3   8  28  50  16   6\n",
       "2013   4   3   3   3   2   2   3   8  28  58  19   7\n",
       "2014   5   4   4   3   3   3   4  12  36  72  23   9\n",
       "2015   7   6   4   3   3   3   4  10  40  83  25  10\n",
       "2016   8   5   4   4   4   3   4  11  37 100  29  11"
      ]
     },
     "metadata": {},
     "output_type": "display_data"
    },
    {
     "data": {
      "text/html": [
       "<table>\n",
       "<caption>A Time Series: 6 × 12</caption>\n",
       "<thead>\n",
       "\t<tr><th></th><th scope=col>Jan</th><th scope=col>Feb</th><th scope=col>Mar</th><th scope=col>Apr</th><th scope=col>May</th><th scope=col>Jun</th><th scope=col>Jul</th><th scope=col>Aug</th><th scope=col>Sep</th><th scope=col>Oct</th><th scope=col>Nov</th><th scope=col>Dec</th></tr>\n",
       "</thead>\n",
       "<tbody>\n",
       "\t<tr><th scope=row>2011</th><td>28</td><td>44</td><td>17</td><td> 6</td><td> 6</td><td> 5</td><td> 4</td><td> 5</td><td> 6</td><td>15</td><td>11</td><td>11</td></tr>\n",
       "\t<tr><th scope=row>2012</th><td>49</td><td>53</td><td>10</td><td> 7</td><td> 7</td><td> 6</td><td> 5</td><td> 6</td><td> 8</td><td>18</td><td>13</td><td>13</td></tr>\n",
       "\t<tr><th scope=row>2013</th><td>64</td><td>37</td><td>10</td><td> 7</td><td> 6</td><td> 6</td><td> 5</td><td> 7</td><td> 8</td><td>21</td><td>14</td><td>13</td></tr>\n",
       "\t<tr><th scope=row>2014</th><td>47</td><td>72</td><td>17</td><td> 9</td><td> 8</td><td> 7</td><td> 5</td><td> 7</td><td> 9</td><td>24</td><td>15</td><td>14</td></tr>\n",
       "\t<tr><th scope=row>2015</th><td>72</td><td>58</td><td>10</td><td> 8</td><td> 8</td><td> 7</td><td> 6</td><td> 7</td><td>11</td><td>32</td><td>18</td><td>20</td></tr>\n",
       "\t<tr><th scope=row>2016</th><td>97</td><td>39</td><td>10</td><td> 9</td><td> 8</td><td> 7</td><td> 7</td><td> 8</td><td>12</td><td>34</td><td>18</td><td>18</td></tr>\n",
       "</tbody>\n",
       "</table>\n"
      ],
      "text/latex": [
       "A Time Series: 6 × 12\n",
       "\\begin{tabular}{r|llllllllllll}\n",
       "  & Jan & Feb & Mar & Apr & May & Jun & Jul & Aug & Sep & Oct & Nov & Dec\\\\\n",
       "\\hline\n",
       "\t2011 & 28 & 44 & 17 &  6 &  6 &  5 &  4 &  5 &  6 & 15 & 11 & 11\\\\\n",
       "\t2012 & 49 & 53 & 10 &  7 &  7 &  6 &  5 &  6 &  8 & 18 & 13 & 13\\\\\n",
       "\t2013 & 64 & 37 & 10 &  7 &  6 &  6 &  5 &  7 &  8 & 21 & 14 & 13\\\\\n",
       "\t2014 & 47 & 72 & 17 &  9 &  8 &  7 &  5 &  7 &  9 & 24 & 15 & 14\\\\\n",
       "\t2015 & 72 & 58 & 10 &  8 &  8 &  7 &  6 &  7 & 11 & 32 & 18 & 20\\\\\n",
       "\t2016 & 97 & 39 & 10 &  9 &  8 &  7 &  7 &  8 & 12 & 34 & 18 & 18\\\\\n",
       "\\end{tabular}\n"
      ],
      "text/markdown": [
       "\n",
       "A Time Series: 6 × 12\n",
       "\n",
       "| <!--/--> | Jan | Feb | Mar | Apr | May | Jun | Jul | Aug | Sep | Oct | Nov | Dec |\n",
       "|---|---|---|---|---|---|---|---|---|---|---|---|---|\n",
       "| 2011 | 28 | 44 | 17 |  6 |  6 |  5 |  4 |  5 |  6 | 15 | 11 | 11 |\n",
       "| 2012 | 49 | 53 | 10 |  7 |  7 |  6 |  5 |  6 |  8 | 18 | 13 | 13 |\n",
       "| 2013 | 64 | 37 | 10 |  7 |  6 |  6 |  5 |  7 |  8 | 21 | 14 | 13 |\n",
       "| 2014 | 47 | 72 | 17 |  9 |  8 |  7 |  5 |  7 |  9 | 24 | 15 | 14 |\n",
       "| 2015 | 72 | 58 | 10 |  8 |  8 |  7 |  6 |  7 | 11 | 32 | 18 | 20 |\n",
       "| 2016 | 97 | 39 | 10 |  9 |  8 |  7 |  7 |  8 | 12 | 34 | 18 | 18 |\n",
       "\n"
      ],
      "text/plain": [
       "     Jan Feb Mar Apr May Jun Jul Aug Sep Oct Nov Dec\n",
       "2011 28  44  17   6   6   5   4   5   6  15  11  11 \n",
       "2012 49  53  10   7   7   6   5   6   8  18  13  13 \n",
       "2013 64  37  10   7   6   6   5   7   8  21  14  13 \n",
       "2014 47  72  17   9   8   7   5   7   9  24  15  14 \n",
       "2015 72  58  10   8   8   7   6   7  11  32  18  20 \n",
       "2016 97  39  10   9   8   7   7   8  12  34  18  18 "
      ]
     },
     "metadata": {},
     "output_type": "display_data"
    },
    {
     "data": {
      "text/html": [
       "TRUE"
      ],
      "text/latex": [
       "TRUE"
      ],
      "text/markdown": [
       "TRUE"
      ],
      "text/plain": [
       "[1] TRUE"
      ]
     },
     "metadata": {},
     "output_type": "display_data"
    },
    {
     "data": {
      "text/html": [
       "TRUE"
      ],
      "text/latex": [
       "TRUE"
      ],
      "text/markdown": [
       "TRUE"
      ],
      "text/plain": [
       "[1] TRUE"
      ]
     },
     "metadata": {},
     "output_type": "display_data"
    }
   ],
   "source": [
    "# Read data\n",
    "setwd('C:/Users/Kevin/Desktop/Descriptive TS Analysis with Google Trends')\n",
    "Kostüm <- read.csv(\"Kostüm_2011_DE.csv\")\n",
    "Kürbis <- read.csv(\"Kürbis_2011_DE.csv\")\n",
    "\n",
    "# Import the library\n",
    "library(tseries) \n",
    "\n",
    "# Create Time Series (TS)\n",
    "Kürbis.ts <- ts(Kürbis, start=c(2011, 1), end=c(2016, 12), frequency=12)\n",
    "Kürbis.ts\n",
    "\n",
    "Kostüm.ts <- ts(Kostüm, start=c(2011, 1), end=c(2016, 12), frequency=12)\n",
    "Kostüm.ts\n",
    "\n",
    "# Test if TS really is TS\n",
    "is.ts(Kürbis.ts)\n",
    "is.ts(Kostüm.ts)"
   ]
  },
  {
   "cell_type": "markdown",
   "metadata": {},
   "source": [
    "# Separate Analysis"
   ]
  },
  {
   "cell_type": "markdown",
   "metadata": {},
   "source": [
    "## Choice of Model: Additive or Multiplicative?\n",
    "First, we need to determine whether the additive or the multiplicative model should be used to decompose both TS into their trend, seasonal, and random components. The additive model is useful when the seasonal variation is relatively constant over time. The multiplicative model is useful when the seasonal variation increases over time."
   ]
  },
  {
   "cell_type": "code",
   "execution_count": 3,
   "metadata": {
    "scrolled": false
   },
   "outputs": [
    {
     "data": {
      "image/png": "[encoded data removed]",
      "text/plain": [
       "Plot with title \"Search interest in 'Kürbis' in Germany\""
      ]
     },
     "metadata": {
      "image/png": {
       "height": 420,
       "width": 420
      }
     },
     "output_type": "display_data"
    },
    {
     "data": {
      "image/png": "[encoded data removed]",
      "text/plain": [
       "Plot with title \"Search interest in 'Kostüm' - Germany\""
      ]
     },
     "metadata": {
      "image/png": {
       "height": 420,
       "width": 420
      }
     },
     "output_type": "display_data"
    }
   ],
   "source": [
    "# Plot TS and add simple regression line -> trend\n",
    "plot(Kürbis.ts, main = \"Search interest in 'Kürbis' in Germany\", ylab = \"Relative Interest\")\n",
    "abline(reg=lm(Kürbis.ts~time(Kostüm.ts)))\n",
    "\n",
    "# Plot search interest in Kostüm with trend line\n",
    "plot(Kostüm.ts, main = \"Search interest in 'Kostüm' - Germany\", ylab = \"Relative Interest\")\n",
    "abline(reg=lm(Kostüm.ts~time(Kostüm.ts)))"
   ]
  },
  {
   "cell_type": "markdown",
   "metadata": {},
   "source": [
    "From plotting the examined time series with an additional regression line, it can be confirmed that the time series can be described using a multiplicative model, since the seasonal variation tends to incline as the trend increases. There is a peak every autumn and a trough throughout the spring and summer periods for `Kürbis.ts` and a peak every year around October and February for `Kostüm.ts`. It can be observed that the values enlarge in every period. Therefore the following structure is considered for basic decomposition models:  $x_t = m_t * s_t + z_t$. Taking into account the applicability of a multiplicative model, the function is extended with the command `type=”multiplicative”`, otherwise R initially assumes an additive model. \n",
    "\n",
    "**Conclusion: We choose the multiplicative model.**"
   ]
  },
  {
   "cell_type": "markdown",
   "metadata": {},
   "source": [
    "## Decomposition\n",
    "\n",
    "By decomposing, the time series is split into a seasonal component, a trend component and a random by calling the `decompose()` function in R. A plot illustrates the original time series, the estimated trend component, the estimated seasonal component, and the estimated random component. A separated analysis of each factor improves the interpretability of the data."
   ]
  },
  {
   "cell_type": "code",
   "execution_count": 4,
   "metadata": {},
   "outputs": [
    {
     "data": {
      "image/png": "[encoded data removed]",
      "text/plain": [
       "plot without title"
      ]
     },
     "metadata": {
      "image/png": {
       "height": 420,
       "width": 420
      }
     },
     "output_type": "display_data"
    },
    {
     "data": {
      "image/png": "[encoded data removed]",
      "text/plain": [
       "plot without title"
      ]
     },
     "metadata": {
      "image/png": {
       "height": 420,
       "width": 420
      }
     },
     "output_type": "display_data"
    }
   ],
   "source": [
    "# Decompose the Kürbis TS into seasonal, trend, and random component\n",
    "Kürbis.dp <- decompose(Kürbis.ts, type = \"multiplicative\")\n",
    "plot(Kürbis.dp)\n",
    "title(sub = \"Kürbis\")\n",
    "\n",
    "# Decompose the Kürbis TS into seasonal, trend, and random component\n",
    "Kostüm.dp <- decompose(Kostüm.ts, type = \"multiplicative\")\n",
    "plot(Kostüm.dp)\n",
    "title(sub = \"Kostüm\")"
   ]
  },
  {
   "cell_type": "markdown",
   "metadata": {},
   "source": [
    "**Trend analysis**\n",
    "\n",
    "The exhibited trend lines for both `Kürbis.ts` and `Kostüm.ts` depict a steady increase from 2011 onwards.\n",
    "\n",
    "**Seasonality**\n",
    "\n",
    "Secondly, a closer look at the estimated seasonal factors which are given for the months January-December, shows how similar they are for each year respectively: The largest seasonal factor for `Kürbis.ts` is for October about 35.36, and the lowest is for May about -7.83, indicating that there seems to be a peak in Google searches and a trough each year. \n",
    "\n",
    "**Analysis of a seasonally and trend adjusted time series**\n",
    "\n",
    "The separation of the seasonal and the trend component leaves the random component. Compared to the original TS the random component's standard deviation is significantly lower, see e.g. \n",
    "\n",
    "`SD(Kürbis.ts) = 19.53605` \n",
    "\n",
    "`SD(Kürbis.ts.ran) = 0.1005947`"
   ]
  },
  {
   "cell_type": "code",
   "execution_count": 5,
   "metadata": {},
   "outputs": [
    {
     "name": "stdout",
     "output_type": "stream",
     "text": [
      "variance of Kürbis TS = 381.66 \n",
      "variance of Kostüm TS = 363.45 \n",
      "SD of Kürbis TS = 19.54 \n",
      "SD of Kürbis TS = 19.06 \n"
     ]
    }
   ],
   "source": [
    "# Variance\n",
    "cat('variance of Kürbis TS =', round(var(Kürbis.ts),2),'\\n')\n",
    "cat('variance of Kostüm TS =', round(var(Kostüm.ts),2),'\\n')\n",
    "\n",
    "# Standard deviation\n",
    "cat('SD of Kürbis TS =', round(sd(Kürbis.ts),2),'\\n')\n",
    "cat('SD of Kürbis TS =', round(sd(Kostüm.ts),2),'\\n')"
   ]
  },
  {
   "cell_type": "code",
   "execution_count": 8,
   "metadata": {
    "scrolled": true
   },
   "outputs": [],
   "source": [
    "#Mean each period\n",
    "#aggregate(Kürbis.ts, FUN=mean)\n",
    "#aggregate(Kostüm.ts, FUN=mean)\n",
    "\n",
    "#Variance each period\n",
    "#aggregate(Kürbis.ts, FUN=var)\n",
    "#aggregate(Kostüm.ts, FUN=var)"
   ]
  },
  {
   "cell_type": "markdown",
   "metadata": {},
   "source": [
    "# Joint Analysis"
   ]
  },
  {
   "cell_type": "markdown",
   "metadata": {},
   "source": [
    "For further understanding of the relation Kürbis-Kostüm, the time series are plotted jointly. A repeating coherence of the two time series could be assumed during the autumn period of each year. "
   ]
  },
  {
   "cell_type": "code",
   "execution_count": 9,
   "metadata": {},
   "outputs": [
    {
     "data": {
      "image/png": "[encoded data removed]",
      "text/plain": [
       "Plot with title \"Search interest in 'Kürbis' (red) and 'Kostüm' (blue) - Germany\""
      ]
     },
     "metadata": {
      "image/png": {
       "height": 420,
       "width": 420
      }
     },
     "output_type": "display_data"
    }
   ],
   "source": [
    "# Plot multiple TS to compare then\n",
    "ts.plot(Kürbis.ts, Kostüm.ts, col=c(\"red\",\"blue\"), main = \"Search interest in 'Kürbis' (red) and 'Kostüm' (blue) - Germany\", ylab = \"Relative Interest\", xlab = \"Year\")"
   ]
  },
  {
   "cell_type": "markdown",
   "metadata": {},
   "source": [
    "However, the calculated correlation between `Kürbis.ts` and `Kostüm.ts` results into a correlation coefficient of 0.06587115. This value is significantly low, underlining the absence of a correlation between the search queries considering the entire period; i.e. an increase in interest for one does not imply the decrease or rise of interest in the other one."
   ]
  },
  {
   "cell_type": "code",
   "execution_count": 10,
   "metadata": {},
   "outputs": [
    {
     "name": "stdout",
     "output_type": "stream",
     "text": [
      "Correlation between Kürbis TS and Kostüm TS = 0.06587115 \n"
     ]
    }
   ],
   "source": [
    "# Correlation for all periods\n",
    "cat(\"Correlation between Kürbis TS and Kostüm TS =\",cor(Kürbis.ts, Kostüm.ts),'\\n')"
   ]
  },
  {
   "cell_type": "markdown",
   "metadata": {},
   "source": [
    "When taking a closer look at the correlations from September to November in each year, the initial assumption of data coherence appears to be confirmed. "
   ]
  },
  {
   "cell_type": "code",
   "execution_count": 209,
   "metadata": {
    "scrolled": false
   },
   "outputs": [
    {
     "name": "stdout",
     "output_type": "stream",
     "text": [
      "  list_year list_cor\n",
      "1      2011    0.627\n",
      "2      2012    0.638\n",
      "3      2013    0.764\n",
      "4      2014    0.785\n",
      "5      2015    0.834\n",
      "6      2016    0.932\n"
     ]
    }
   ],
   "source": [
    "# Correlation for each year's fall\n",
    "list_year <- c()\n",
    "list_cor  <- c()\n",
    "for (i in (0:5)){    # The year 2011-2016\n",
    "    sep <- i*12 + 9   # Each September\n",
    "    nov <- sep + 2    # Each November\n",
    "    year <- 2011 + i  \n",
    "    # Correlation between Kürbis TS and Kostüm TS in the months Sep, Oct, Nov for each year\n",
    "    cor <- round(cor(Kürbis.ts[sep:nov], Kostüm.ts[sep:nov]),3)\n",
    "    list_year <- append(list_year, year)\n",
    "    list_cor <- append(list_cor, cor)\n",
    "}\n",
    "\n",
    "df <- data.frame(list_year, list_cor)\n",
    "print(df)"
   ]
  },
  {
   "cell_type": "markdown",
   "metadata": {},
   "source": [
    "At this point the analysis needs to be seen in a broader context. Hereby it can be determined that this phenomenon concerns a spurious correlation: Although the data might be misleading, the search interest for pumpkins and costumes may be triggered by other factors that influence both of them in a similar way. It has to be taken into account that a data correlation does not imply actual causation. Hence a direct correlation cannot unambiguously be found. \n",
    "\n",
    "From merely analysing the data shielded from any external factors, the question arises whether a downward trend in Kostüm searches might equally induce a deterioration in Kürbis searches. And beyond that: Could a rise of the Kürbis searches in September be the reason for the renewed incline of Kostüm searches? In order to investigate whether these assumptions might be true, the underlying dynamics of the relation between Kürbis and Kostüm are taken into consideration. Accordingly, a cross-correlation of `Kürbis.ts` and `Kostüm.ts` has to be examined."
   ]
  },
  {
   "cell_type": "markdown",
   "metadata": {},
   "source": [
    "## Cross-correlation analysis for Kürbis\n",
    "To understand the relation between the two time series, the focus is drawn on an investigation of a cross-correlation. The absence of trend and seasonality effects is ensured by only looking at the random component. Note, the first six and the last six terms cannot be calculated in R and therefore are deposited as NA.\n",
    "\n",
    "**Definition of Cross-Correlation:** Cross-correlation is a measurement that tracks the movements of two variables or sets of data relative to each other. In its simplest version, it can be described in terms of an independent variable, X, and two dependent variables, Y and Z. If independent variable X influences variable Y and the two are positively correlated, then as the value of X rises so will the value of Y. If the same is true of the relationship between X and Z, then as the value of X rises, so will the value of Z. Variables Y and Z can be said to be cross correlated because their behavior is positively correlated as a result of each of their individual relationships to variable X. Cross correlation can also occur with sets and time series of data. \n",
    "(Source: https://www.investopedia.com/terms/c/crosscorrelation.asp)"
   ]
  },
  {
   "cell_type": "code",
   "execution_count": 11,
   "metadata": {
    "scrolled": false
   },
   "outputs": [
    {
     "data": {
      "text/html": [
       "<style>\n",
       ".list-inline {list-style: none; margin:0; padding: 0}\n",
       ".list-inline>li {display: inline-block}\n",
       ".list-inline>li:not(:last-child)::after {content: \"\\00b7\"; padding: 0 .5ex}\n",
       "</style>\n",
       "<ol class=list-inline><li>&lt;NA&gt;</li><li>&lt;NA&gt;</li><li>&lt;NA&gt;</li><li>&lt;NA&gt;</li><li>&lt;NA&gt;</li><li>&lt;NA&gt;</li></ol>\n"
      ],
      "text/latex": [
       "\\begin{enumerate*}\n",
       "\\item <NA>\n",
       "\\item <NA>\n",
       "\\item <NA>\n",
       "\\item <NA>\n",
       "\\item <NA>\n",
       "\\item <NA>\n",
       "\\end{enumerate*}\n"
      ],
      "text/markdown": [
       "1. &lt;NA&gt;\n",
       "2. &lt;NA&gt;\n",
       "3. &lt;NA&gt;\n",
       "4. &lt;NA&gt;\n",
       "5. &lt;NA&gt;\n",
       "6. &lt;NA&gt;\n",
       "\n",
       "\n"
      ],
      "text/plain": [
       "[1] NA NA NA NA NA NA"
      ]
     },
     "metadata": {},
     "output_type": "display_data"
    },
    {
     "data": {
      "text/html": [
       "<style>\n",
       ".list-inline {list-style: none; margin:0; padding: 0}\n",
       ".list-inline>li {display: inline-block}\n",
       ".list-inline>li:not(:last-child)::after {content: \"\\00b7\"; padding: 0 .5ex}\n",
       "</style>\n",
       "<ol class=list-inline><li>1.27906323365683</li><li>1.15154556659226</li><li>0.996938053353624</li><li>0.968044664512201</li><li>0.967739661653529</li><li>1.03606262504271</li></ol>\n"
      ],
      "text/latex": [
       "\\begin{enumerate*}\n",
       "\\item 1.27906323365683\n",
       "\\item 1.15154556659226\n",
       "\\item 0.996938053353624\n",
       "\\item 0.968044664512201\n",
       "\\item 0.967739661653529\n",
       "\\item 1.03606262504271\n",
       "\\end{enumerate*}\n"
      ],
      "text/markdown": [
       "1. 1.27906323365683\n",
       "2. 1.15154556659226\n",
       "3. 0.996938053353624\n",
       "4. 0.968044664512201\n",
       "5. 0.967739661653529\n",
       "6. 1.03606262504271\n",
       "\n",
       "\n"
      ],
      "text/plain": [
       "[1] 1.2790632 1.1515456 0.9969381 0.9680447 0.9677397 1.0360626"
      ]
     },
     "metadata": {},
     "output_type": "display_data"
    },
    {
     "data": {
      "text/html": [
       "60"
      ],
      "text/latex": [
       "60"
      ],
      "text/markdown": [
       "60"
      ],
      "text/plain": [
       "[1] 60"
      ]
     },
     "metadata": {},
     "output_type": "display_data"
    }
   ],
   "source": [
    "# Performing the cross correlation function\n",
    "# Decompose multiplicative time series into the random part\n",
    "Kürbis.ran <- decompose(Kürbis.ts, type = \"multiplicative\")$random\n",
    "head(Kürbis.ran)\n",
    "\n",
    "Kürbis.ran.ts <- window(Kürbis.ran, start = c(2011, 7), end = c(2016,6))\n",
    "head(Kürbis.ran.ts)\n",
    "length(Kürbis.ran.ts)"
   ]
  },
  {
   "cell_type": "markdown",
   "metadata": {},
   "source": [
    "Comparing standard deviation between the Kürbis TS and the random component as a TS, we see that the latter has a significantly lower SD."
   ]
  },
  {
   "cell_type": "code",
   "execution_count": 184,
   "metadata": {},
   "outputs": [
    {
     "name": "stdout",
     "output_type": "stream",
     "text": [
      "SD of Kürbis.ts = 19.53605 \n",
      "SD of Kürbis.ran.ts = 0.1005947"
     ]
    }
   ],
   "source": [
    "cat('SD of Kürbis.ts =',sd(Kürbis.ts),'\\n')\n",
    "cat('SD of Kürbis.ran.ts =',sd(Kürbis.ran.ts)) "
   ]
  },
  {
   "cell_type": "markdown",
   "metadata": {},
   "source": [
    "The plot below shows the random component of our decomposed time series which looks very much like white noise. \n",
    "\n",
    "**Definition of white noise:**\n",
    "A time series is white noise if the variables are independent and identically distributed with a mean of zero. This means that all variables have the same variance ($\\sigma^2$) and each value has a zero correlation with all other values in the series.\n",
    "(Source: https://machinelearningmastery.com/white-noise-time-series-python/)"
   ]
  },
  {
   "cell_type": "code",
   "execution_count": 212,
   "metadata": {},
   "outputs": [
    {
     "data": {
      "image/png": "[encoded data removed]",
      "text/plain": [
       "Plot with title \"Random Component of decomposed Time Series - Kürbis\""
      ]
     },
     "metadata": {
      "image/png": {
       "height": 420,
       "width": 420
      }
     },
     "output_type": "display_data"
    }
   ],
   "source": [
    "plot(Kürbis.ran.ts, main = \"Random Component of decomposed Time Series - Kürbis\", ylab = \"\")"
   ]
  },
  {
   "cell_type": "markdown",
   "metadata": {},
   "source": [
    "### Check for stationarity\n",
    "To perform a cross-correlation analysis, we need to check whether the 2nd order properties, i.e. weak stationarity, for the white noise series are met.\n",
    "\n",
    "**Definition of stationarity:**\n",
    "A time series is said to be stationary if its statistical properties do not change over time. In other words, it has constant mean and variance, and covariance is independent of time.\n",
    "(Source: https://towardsdatascience.com/the-complete-guide-to-time-series-analysis-and-forecasting-70d476bfe775)\n",
    "\n"
   ]
  },
  {
   "cell_type": "code",
   "execution_count": 12,
   "metadata": {},
   "outputs": [
    {
     "name": "stdout",
     "output_type": "stream",
     "text": [
      "mean 0.9982384 \n"
     ]
    }
   ],
   "source": [
    "cat(\"mean\",mean(Kürbis.ran.ts),\"\\n\")\n",
    "#cat(\"var\",var(Kürbis.ran.ts))\n",
    "#acf(Kürbis.ran.ts,type=\"covariance\",main=\"Autocovariance 'Kürbis'\")"
   ]
  },
  {
   "cell_type": "code",
   "execution_count": 14,
   "metadata": {},
   "outputs": [],
   "source": [
    "#acf(Kürbis.ran.ts,type=\"correlation\",main=\"Autocorrelation 'Kürbis'\")\n",
    "#print(acf(Kürbis.ran.ts,type=\"correlation\",main=\"Autocorrelation 'Kürbis'\"))"
   ]
  },
  {
   "cell_type": "markdown",
   "metadata": {},
   "source": [
    "**Result:** `Kürbis.ran.ts` is not stationary since the mean lies around 1 and not 0.\n",
    "\n",
    "### Differencing\n",
    "\n",
    "Nonetheless, it is possible to transform a non-stationary time series into a stationary time series by differencing with function `diff()`. When differencing the time series `Kürbis.ran.ts` and `Kostüm.ran.ts` once and comparing the results with the second order properties, characteristics for stationarity are demonstrated. After differencing the time series twice and three times, it becomes obvious that differencing the time series once brings the output closest to stationarity. Second order properties are fulfilled with only minor swings in the autocorrelation that can be ignored. However, these swings could slightly impact the result of the cross-correlation analysis."
   ]
  },
  {
   "cell_type": "code",
   "execution_count": 225,
   "metadata": {},
   "outputs": [
    {
     "name": "stdout",
     "output_type": "stream",
     "text": [
      "mean of white noise = -0.006532969 \n",
      "var of white noise = 0.01304033"
     ]
    },
    {
     "data": {
      "image/png": "[encoded data removed]",
      "text/plain": [
       "Plot with title \"Differentiated random Component - Kürbis\""
      ]
     },
     "metadata": {
      "image/png": {
       "height": 420,
       "width": 420
      }
     },
     "output_type": "display_data"
    }
   ],
   "source": [
    "# First differentiation deviates least from the second order properties of white noise series\n",
    "Kürbis.WN <- diff(Kürbis.ran.ts, differences=1)\n",
    "plot(Kürbis.WN, main = \"Differentiated random Component - Kürbis\", ylab = \"\")\n",
    "cat(\"mean of white noise =\", mean(Kürbis.WN),\"\\n\")\n",
    "cat(\"var of white noise =\",var(Kürbis.WN))"
   ]
  },
  {
   "cell_type": "code",
   "execution_count": 158,
   "metadata": {},
   "outputs": [
    {
     "name": "stdout",
     "output_type": "stream",
     "text": [
      "\n",
      "Autocovariances of series 'Kürbis.WN', by lag\n",
      "\n",
      "   0.0000    0.0833    0.1667    0.2500    0.3333    0.4167    0.5000    0.5833 \n",
      " 0.012819 -0.002075 -0.004630  0.001000  0.001994 -0.001298 -0.001502  0.001395 \n",
      "   0.6667    0.7500    0.8333    0.9167    1.0000    1.0833    1.1667    1.2500 \n",
      " 0.000371 -0.002008 -0.001664  0.005126 -0.000594 -0.003631  0.000113  0.002054 \n",
      "   1.3333    1.4167 \n",
      " 0.001491 -0.001538 \n"
     ]
    },
    {
     "data": {
      "image/png": "[encoded data removed]",
      "text/plain": [
       "Plot with title \"x/seasonal\""
      ]
     },
     "metadata": {
      "image/png": {
       "height": 420,
       "width": 420
      }
     },
     "output_type": "display_data"
    }
   ],
   "source": [
    "#acf(Kürbis.WN,type=\"covariance\", main = \"Autocovariance White Noise - Kürbis\")\n",
    "print(acf(Kürbis.WN,type=\"covariance\"))"
   ]
  },
  {
   "cell_type": "code",
   "execution_count": 159,
   "metadata": {},
   "outputs": [
    {
     "name": "stdout",
     "output_type": "stream",
     "text": [
      "\n",
      "Autocorrelations of series 'Kürbis.WN', by lag\n",
      "\n",
      "0.0000 0.0833 0.1667 0.2500 0.3333 0.4167 0.5000 0.5833 0.6667 0.7500 0.8333 \n",
      " 1.000 -0.162 -0.361  0.078  0.156 -0.101 -0.117  0.109  0.029 -0.157 -0.130 \n",
      "0.9167 1.0000 1.0833 1.1667 1.2500 1.3333 1.4167 \n",
      " 0.400 -0.046 -0.283  0.009  0.160  0.116 -0.120 \n"
     ]
    },
    {
     "data": {
      "image/png": "[encoded data removed]",
      "text/plain": [
       "Plot with title \"Autocorrelation 'Kürbis'\""
      ]
     },
     "metadata": {
      "image/png": {
       "height": 420,
       "width": 420
      }
     },
     "output_type": "display_data"
    }
   ],
   "source": [
    "#acf(Kürbis.WN,type=\"correlation\",main=\"Autocorrelation White Noise - Kürbis\")\n",
    "print(acf(Kürbis.WN,type=\"correlation\",main=\"Autocorrelation 'Kürbis'\"))"
   ]
  },
  {
   "cell_type": "markdown",
   "metadata": {},
   "source": [
    "### Tests\n",
    "\n",
    "In addition to the empirical proof, the Augmented Dickey-Fuller Test (ADF) and the Kwiatkowski-Phillips-Schmidt-Shin Test (KPSS) tests can be conducted. The ADF test is based on the null hypothesis that the time series is not stationary, so large p-values are indicative of non-stationarity, and small p-values suggest stationarity. The KPSS reverses the hypotheses, so the null-hypothesis is that the data are stationary. In our case, both tests for the differentiated `Kürbis.ran.ts` and `Kostüm.ran.ts` time series suggest stationarity and hence confirm our stationarity assumption."
   ]
  },
  {
   "cell_type": "code",
   "execution_count": 227,
   "metadata": {},
   "outputs": [
    {
     "name": "stderr",
     "output_type": "stream",
     "text": [
      "Warning message in adf.test(Kürbis.WN):\n",
      "\"p-value smaller than printed p-value\"\n"
     ]
    },
    {
     "data": {
      "text/plain": [
       "\n",
       "\tAugmented Dickey-Fuller Test\n",
       "\n",
       "data:  Kürbis.WN\n",
       "Dickey-Fuller = -5.0235, Lag order = 3, p-value = 0.01\n",
       "alternative hypothesis: stationary\n"
      ]
     },
     "metadata": {},
     "output_type": "display_data"
    }
   ],
   "source": [
    "# Augmented Dickey-Fuller Test\n",
    "adf.test(Kürbis.WN) "
   ]
  },
  {
   "cell_type": "code",
   "execution_count": 228,
   "metadata": {},
   "outputs": [
    {
     "name": "stderr",
     "output_type": "stream",
     "text": [
      "Warning message in kpss.test(Kürbis.WN):\n",
      "\"p-value greater than printed p-value\"\n"
     ]
    },
    {
     "data": {
      "text/plain": [
       "\n",
       "\tKPSS Test for Level Stationarity\n",
       "\n",
       "data:  Kürbis.WN\n",
       "KPSS Level = 0.092828, Truncation lag parameter = 3, p-value = 0.1\n"
      ]
     },
     "metadata": {},
     "output_type": "display_data"
    }
   ],
   "source": [
    "# Kwiatkowski-Phillips-Schmidt-Shin Test\n",
    "kpss.test(Kürbis.WN)"
   ]
  },
  {
   "cell_type": "markdown",
   "metadata": {},
   "source": [
    "## Cross-correlation analysis for Kostüm\n",
    "For simplicity, I skip this part since it is very similar to what we have seen for the Kürbis time series."
   ]
  },
  {
   "cell_type": "code",
   "execution_count": null,
   "metadata": {
    "scrolled": false
   },
   "outputs": [],
   "source": [
    "#Decompose multiplicative time series - Kostüm\n",
    "Kostüm.ran <- decompose(Kostüm.ts, type = \"multiplicative\")$random\n",
    "\n",
    "##A consequence of using a centred moving average of 12 months to smooth the time series, and thereby estimate the trend, is that the first six and last six terms in the random component cannot be calculated and are thus stored in R as NA\n",
    "Kostüm.ran.ts <- window(Kostüm.ran, start = c(2011,7), end = c(2016,6))\n",
    "\n",
    "#Comparing standard deviation\n",
    "sd(Kürbis.ran.ts) #standard deviation of random component is lower than for the original time series\n",
    "\n",
    "#By looking at the plot we can see that the random part of our decomposed time series looks very much like white noise\n",
    "plot(Kürbis.ran.ts, main = \"Random Component of decomposed Time Series - Kostüm\", ylab = \"\")\n",
    "\n",
    "#Check if second order properties (weak stationarity) for white noise series are met\n",
    "mean(Kostüm.ran.ts)\n",
    "var(Kostüm.ran.ts)\n",
    "acf(Kostüm.ran.ts,type=\"covariance\",main=\"Autocovariance 'Kostüm'\")\n",
    "\n",
    "print(acf(Kostüm.ran.ts, type = \"covariance\"))\n",
    "acf(Kostüm.ran.ts,type=\"correlation\",main=\"Autocorrelation 'Kostüm'\")\n",
    "\n",
    "print(acf(Kostüm.ran.ts,type=\"correlation\",main=\"Autocorrelation 'Kostüm'\"))\n",
    "\n",
    "#First differentiation deviates least from the second order properties of white noise series\n",
    "Kostüm.WN <- diff(Kostüm.ran.ts, differences=1)\n",
    "plot(Kostüm.WN, main = \"Differentiated random Component - Kostüm\", ylab = \"\")\n",
    "\n",
    "mean(Kostüm.WN)\n",
    "var(Kostüm.WN)\n",
    "acf(Kostüm.WN,type=\"covariance\", main = \"Autocovariance White Noise - Kostüm\")\n",
    "\n",
    "print(acf(Kostüm.WN,type=\"covariance\"))\n",
    "acf(Kostüm.WN,type=\"correlation\",main=\"Autocorrelation White Noise - Kostüm\")\n",
    "\n",
    "print(acf(Kostüm.WN,type=\"correlation\",main=\"Autocorrelation 'Kostüm'\"))"
   ]
  },
  {
   "cell_type": "code",
   "execution_count": 234,
   "metadata": {},
   "outputs": [
    {
     "name": "stderr",
     "output_type": "stream",
     "text": [
      "Warning message in adf.test(Kostüm.WN):\n",
      "\"p-value smaller than printed p-value\"\n"
     ]
    },
    {
     "data": {
      "text/plain": [
       "\n",
       "\tAugmented Dickey-Fuller Test\n",
       "\n",
       "data:  Kostüm.WN\n",
       "Dickey-Fuller = -4.8763, Lag order = 3, p-value = 0.01\n",
       "alternative hypothesis: stationary\n"
      ]
     },
     "metadata": {},
     "output_type": "display_data"
    }
   ],
   "source": [
    "#Augmented Dickey-Fuller Test (ADF)\n",
    "adf.test(Kostüm.WN) \n",
    "#p-value smaller than printed p-value -> null hypothesis (not stationary) is recejted, \n",
    "# which means that the time series is stationary"
   ]
  },
  {
   "cell_type": "code",
   "execution_count": 232,
   "metadata": {},
   "outputs": [
    {
     "name": "stderr",
     "output_type": "stream",
     "text": [
      "Warning message in kpss.test(Kostüm.WN):\n",
      "\"p-value greater than printed p-value\"\n"
     ]
    },
    {
     "data": {
      "text/plain": [
       "\n",
       "\tKPSS Test for Level Stationarity\n",
       "\n",
       "data:  Kostüm.WN\n",
       "KPSS Level = 0.032852, Truncation lag parameter = 3, p-value = 0.1\n"
      ]
     },
     "metadata": {},
     "output_type": "display_data"
    }
   ],
   "source": [
    "#Kwiatkowski-Phillips-Schmidt-Shin Test\n",
    "kpss.test(Kostüm.WN) #p-value greater than printed p-value -> null hypothesis (stationary) is not rejected, which mean that thetime series is stationary\n",
    "#All tests indicate that our time series is stationary."
   ]
  },
  {
   "cell_type": "markdown",
   "metadata": {},
   "source": [
    "**Result:** Both tests indicate that the Kostüm time series is stationary."
   ]
  },
  {
   "cell_type": "markdown",
   "metadata": {},
   "source": [
    "# Results"
   ]
  },
  {
   "cell_type": "code",
   "execution_count": 236,
   "metadata": {
    "scrolled": false
   },
   "outputs": [
    {
     "data": {
      "image/png": "[encoded data removed]",
      "text/plain": [
       "Plot with title \"Kostüm.WN\""
      ]
     },
     "metadata": {
      "image/png": {
       "height": 420,
       "width": 420
      }
     },
     "output_type": "display_data"
    }
   ],
   "source": [
    "# Cross Correlation\n",
    "# Correlogram\n",
    "acf(ts.union(Kürbis.WN, Kostüm.WN))\n",
    "#print(acf(ts.union(Kürbis.WN, Kostüm.WN, dframe=TRUE)))"
   ]
  },
  {
   "cell_type": "markdown",
   "metadata": {},
   "source": [
    "The upper right plot of the autocorrelation function (ACF) plot ‘Kürbis & Kostüm’ shows significant correlations at lags 2 and 13. A significant correlation can be spottet by looking at values which go beyond the dotted blue line. This treshold is calculated by $ \\frac{\\pm1.96}{\\sqrt{n-k}} $, with lag $k$ and $a$ sample size $n$ (Cowpertwait, 2009). The lower left ACF plot ‘Kostüm & Kürbis’ shows significant correlations at lags -11, -9 and -1. One lag equals one month. \n",
    "\n",
    "A significantly positive correlation can be seen in the lower left ‘Kostüm & Kürbis’ plot at lag -11. This indicates that an above average search interest in ‘Kostüm’ lags behind 11 months an above average search interest of ‘Kürbis’. At lag -9 a significantly negative correlation is shown which means that a below (above) average search interest in ‘Kostüm’ lags behind 9 months an above (below) average search interest in ‘Kürbis’. A negative correlation indicates an inverse proportionality. Furthermore, the lags are negative, meaning that the interest in ‘Kostüm’ lags behind the interest in ‘Kürbis’.\n",
    "\n",
    "The upper right plot ‘Kürbis & Kostüm’ shows a significantly negative correlation at lag 2. This means that a below (above) search interest in ‘Kürbis’ leads to an above (below) average search interest in ‘Kostüm’ 2 months later. Here the lags are positive which indicate that the search interest in ‘Kürbis’ leads the search interest in ‘Kostüm’.\n",
    "\n",
    "However, there are several exceedances of the significancy level at several lags. Therefore, it is not verifiable by our data-driven method that the correlation between the search terms ‘Kürbis’ and Kostüm’ to be spurious.\n"
   ]
  },
  {
   "cell_type": "markdown",
   "metadata": {},
   "source": [
    "# Conclusion & Managerial Insights\n",
    "\n",
    "**Summary**\n",
    "\n",
    "At first glance, the data retrieved from `Kürbis.ts` and `Kostüm.ts` appears to be correlated. However, this is an erroneous conclusion derived from the seasonality of the data at hand. Taking into consideration both climatic circumstances (autumn in Germany is the harvest season of pumpkins) and regional holidays or traditions (in this case _Halloween_ in October and _carnival_ in February) sheds a different light on the data observation. In fact, Google searches for Kürbis may have rather been elevated by supermarkets offering reduced prices for pumpkins due to the harvest period. That is why a holistic view of influencing parameters and the viewing angle are crucial for reliable inferences of data. Consequently, it furthermore shows that it may be important to extract the seasonal component from a time series when seasonality threatens to blur the interpretability of data. The correlation is spurious and results from the relation to Halloween that both search words have in common. It can therefore be seen as an indirect correlation. A correlation could probably be significant for the search Kürbis and Halloween or Halloween and Kostüm. A Kostüm search on Google can be provoked by dozens of other motives and does not imply a search for Kürbis which the data shows: Kostüm searches have been significant also at other points in time when Kostüm searches were at a low. These relations could be approached when further deepening the understanding of the underlying dynamics of these time series.\n",
    "\n",
    "Beyond that, the determination of correlations between successive values of time series can be used to further enhance the analysis of the development of Google searches for pumpkins and costumes: Exponential smoothing for instance can be used to make short-term forecasts for time series data and their predictability can be improved by taking correlations in the data into account. The procedure used in this work is one of several possible ways to solve this problem. For instance Autoregressive Integrated Moving Average (ARIMA) models can be used. They include an explicit statistical model for the random component that works with non-zero autocorrelations.\n",
    "\n",
    "**Managerial Insights**\n",
    "\n",
    "If this time series analysis of Google Trends data reaches real world business, it might find application in a very practical manner when considering for instance Marketing strategies of pumpkin farmers and merchants who wish to find out when would be the best moment to start advertising for their products. When it comes to targeting strategies, the pumpkin sale could be boosted by relating the ads for it to costumes and decoration for Halloween. It can be also used to trigger a target group’s interest by manipulating the search outcome via Google Ads. For instance, hits for “Kostüm” could invoke ads of pumpkin sales offers. People might consider buying it when preparing a Halloween party for instance.\n",
    "\n",
    "**Conclusion**\n",
    "\n",
    "In can be concluded that the use of different models analysing this time series and their interpretation, always depends on the objective of the analysis. To conduct forecasting, it can be useful to decompose the time series and a test for stationarity. Further interpretation of the relation between Kürbis and Kostüm searches requires a deep understanding of the underlying mechanisms influencing the search results."
   ]
  }
 ],
 "metadata": {
  "kernelspec": {
   "display_name": "R",
   "language": "R",
   "name": "ir"
  },
  "language_info": {
   "codemirror_mode": "r",
   "file_extension": ".r",
   "mimetype": "text/x-r-source",
   "name": "R",
   "pygments_lexer": "r",
   "version": "3.6.1"
  },
  "toc": {
   "base_numbering": 1,
   "nav_menu": {},
   "number_sections": true,
   "sideBar": true,
   "skip_h1_title": false,
   "title_cell": "Table of Contents",
   "title_sidebar": "Contents",
   "toc_cell": true,
   "toc_position": {},
   "toc_section_display": true,
   "toc_window_display": true
  },
  "varInspector": {
   "cols": {
    "lenName": 16,
    "lenType": 16,
    "lenVar": 40
   },
   "kernels_config": {
    "python": {
     "delete_cmd_postfix": "",
     "delete_cmd_prefix": "del ",
     "library": "var_list.py",
     "varRefreshCmd": "print(var_dic_list())"
    },
    "r": {
     "delete_cmd_postfix": ") ",
     "delete_cmd_prefix": "rm(",
     "library": "var_list.r",
     "varRefreshCmd": "cat(var_dic_list()) "
    }
   },
   "types_to_exclude": [
    "module",
    "function",
    "builtin_function_or_method",
    "instance",
    "_Feature"
   ],
   "window_display": false
  }
 },
 "nbformat": 4,
 "nbformat_minor": 4
}
